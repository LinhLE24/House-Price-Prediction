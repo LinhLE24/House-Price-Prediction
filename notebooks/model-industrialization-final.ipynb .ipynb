{
 "cells": [
  {
   "cell_type": "markdown",
   "id": "d9bc8073",
   "metadata": {},
   "source": [
    "# Model building"
   ]
  },
  {
   "cell_type": "code",
   "execution_count": 7,
   "id": "28c05bbc",
   "metadata": {},
   "outputs": [
    {
     "name": "stdout",
     "output_type": "stream",
     "text": [
      "The autoreload extension is already loaded. To reload it, use:\n",
      "  %reload_ext autoreload\n"
     ]
    }
   ],
   "source": [
    "%load_ext autoreload\n",
    "%autoreload 2\n",
    "import numpy as np\n",
    "import pandas as pd\n",
    "import joblib\n",
    "import sys\n",
    "sys.path.append('..')\n",
    "\n",
    "from house_prices.train import build_model"
   ]
  },
  {
   "cell_type": "code",
   "execution_count": 8,
   "id": "6b7b768d",
   "metadata": {},
   "outputs": [
    {
     "name": "stdout",
     "output_type": "stream",
     "text": [
      "Missing data ? : False\n",
      "Mean square error (MSE): 1238295484.19\n",
      "Root mean square error (RMSE): 35189.42\n",
      "Mean absolute error (MAE): 23729.59\n",
      "Coefficient of determination (R^2): 0.81\n",
      "(LinearRegression(), None)\n"
     ]
    }
   ],
   "source": [
    "training_data_df = pd.read_csv('data/train.csv')\n",
    "model_performance_dict = build_model(training_data_df)\n",
    "print(model_performance_dict)"
   ]
  },
  {
   "cell_type": "markdown",
   "id": "4b3a0267",
   "metadata": {},
   "source": [
    "# Model inference"
   ]
  },
  {
   "cell_type": "code",
   "execution_count": 6,
   "id": "a8f2201b",
   "metadata": {},
   "outputs": [
    {
     "name": "stdout",
     "output_type": "stream",
     "text": [
      "Missing data ? : False\n"
     ]
    },
    {
     "name": "stderr",
     "output_type": "stream",
     "text": [
      "C:\\Users\\Linh LE\\Git\\DSP-ThiTrucLinh-LE\\notebooks\\..\\house_prices\\preprocess.py:68: SettingWithCopyWarning: \n",
      "A value is trying to be set on a copy of a slice from a DataFrame\n",
      "\n",
      "See the caveats in the documentation: https://pandas.pydata.org/pandas-docs/stable/user_guide/indexing.html#returning-a-view-versus-a-copy\n",
      "  df.drop(categorical_col, axis=1, inplace=True)\n"
     ]
    },
    {
     "data": {
      "text/plain": [
       "array([[118519.53740893],\n",
       "       [170847.51012889],\n",
       "       [147388.03836397],\n",
       "       ...,\n",
       "       [137232.64026036],\n",
       "       [108292.66680771],\n",
       "       [235415.59695319]])"
      ]
     },
     "execution_count": 6,
     "metadata": {},
     "output_type": "execute_result"
    }
   ],
   "source": [
    "import pandas as pd\n",
    "from house_prices.inference import make_predictions\n",
    "\n",
    "user_data_df = pd.read_csv('data/test.csv')\n",
    "predictions = make_predictions(user_data_df)\n",
    "predictions"
   ]
  }
 ],
 "metadata": {
  "kernelspec": {
   "display_name": "Python 3 (ipykernel)",
   "language": "python",
   "name": "python3"
  },
  "language_info": {
   "codemirror_mode": {
    "name": "ipython",
    "version": 3
   },
   "file_extension": ".py",
   "mimetype": "text/x-python",
   "name": "python",
   "nbconvert_exporter": "python",
   "pygments_lexer": "ipython3",
   "version": "3.9.12"
  }
 },
 "nbformat": 4,
 "nbformat_minor": 5
}
